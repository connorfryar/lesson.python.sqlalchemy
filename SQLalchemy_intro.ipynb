{
 "cells": [
  {
   "cell_type": "markdown",
   "metadata": {},
   "source": [
    "# Introduction to SQLalchemy\n",
    "[documentation](https://docs.sqlalchemy.org/en/20/)\n",
    "### Overview & Core Comps\n",
    "The SQLAlchemy SQL Toolkit and Object Relational Mapper is a comprehensive set of tools for working with databases and Python. It has several distinct areas of functionality which can be used individually or combined together. Its major components are illustrated below, with component dependencies organized into layers:\n",
    "\n",
    "<img src=\"https://docs.sqlalchemy.org/en/20/_images/sqla_arch_small.png\" alt=\"Alt text\" width=\"500\" height=\"400\" onerror=\"this.src='./imgs/arch_overview.png'; this.onerror=null;\">\n",
    "\n",
    "Above, the two most significant front-facing portions of SQLAlchemy are the Object Relational Mapper (ORM) and the Core.\n",
    "\n",
    "Term introduction\n",
    "SQL expression language\n",
    "- independent toolkit for creating and \"executing\" SQL expressions against a target (DML)\n"
   ]
  },
  {
   "cell_type": "markdown",
   "metadata": {},
   "source": []
  }
 ],
 "metadata": {
  "language_info": {
   "name": "python"
  },
  "orig_nbformat": 4
 },
 "nbformat": 4,
 "nbformat_minor": 2
}
