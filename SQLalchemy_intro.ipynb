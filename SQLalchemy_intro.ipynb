{
 "cells": [
  {
   "cell_type": "markdown",
   "metadata": {},
   "source": [
    "# Introduction to SQLalchemy\n",
    "[documentation](https://docs.sqlalchemy.org/en/20/)\n",
    "### Overview & Core Comps\n",
    "The SQLAlchemy SQL Toolkit and Object Relational Mapper is a comprehensive set of tools for working with databases and Python. It has several distinct areas of functionality which can be used individually or combined together. Its major components are illustrated below, with component dependencies organized into layers:\n",
    "\n",
    "<img src=\"https://docs.sqlalchemy.org/en/20/_images/sqla_arch_small.png\" alt=\"Alt text\" width=\"500\" height=\"400\" onerror=\"this.src='./imgs/arch_overview.png'; this.onerror=null;\">\n",
    "\n",
    "Above, the two most significant front-facing portions of SQLAlchemy are the Object Relational Mapper (ORM) and the Core.\n",
    "\n",
    "Term introduction\n",
    "SQL expression language (independent from ORM Package)\n",
    "- independent toolkit for creating and \"executing\" SQL expressions against a target (DML)\n",
    "ORM\n",
    "- Object Relational Mapper -- Works similarly to SQLalchemy Core but "
   ]
  },
  {
   "cell_type": "markdown",
   "metadata": {},
   "source": []
  },
  {
   "cell_type": "code",
   "execution_count": null,
   "metadata": {},
   "outputs": [],
   "source": []
  },
  {
   "cell_type": "code",
   "execution_count": null,
   "metadata": {},
   "outputs": [],
   "source": []
  }
 ],
 "metadata": {
  "kernelspec": {
   "display_name": "Python 3.10.11 64-bit (microsoft store)",
   "language": "python",
   "name": "python3"
  },
  "language_info": {
   "name": "python",
   "version": "3.10.11"
  },
  "orig_nbformat": 4,
  "vscode": {
   "interpreter": {
    "hash": "8d13536f891b664e8b0f3176c7c1010cc08ef4d822c857a45970b08f820c823d"
   }
  }
 },
 "nbformat": 4,
 "nbformat_minor": 2
}
